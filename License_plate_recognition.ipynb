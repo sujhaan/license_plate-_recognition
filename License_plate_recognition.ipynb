{
  "nbformat": 4,
  "nbformat_minor": 0,
  "metadata": {
    "colab": {
      "provenance": [],
      "authorship_tag": "ABX9TyO04QhYZiacTjJnevuzYWQF",
      "include_colab_link": true
    },
    "kernelspec": {
      "name": "python3",
      "display_name": "Python 3"
    },
    "language_info": {
      "name": "python"
    }
  },
  "cells": [
    {
      "cell_type": "markdown",
      "metadata": {
        "id": "view-in-github",
        "colab_type": "text"
      },
      "source": [
        "<a href=\"https://colab.research.google.com/github/sujhaan/license_plate-_recognition/blob/main/License_plate_recognition.ipynb\" target=\"_parent\"><img src=\"https://colab.research.google.com/assets/colab-badge.svg\" alt=\"Open In Colab\"/></a>"
      ]
    },
    {
      "cell_type": "code",
      "source": [
        "import numpy as np\n",
        "import tensorflow as tf\n",
        "from tensorflow import keras\n",
        "from sklearn.model_selection import train_test_split\n",
        "import cv2\n",
        "import os\n",
        "import matplotlib.pyplot as plt\n",
        "\n",
        "# Load the training sets\n",
        "train_set1_dir = '/content/gdrive/MyDrive/training_data_set/Licplatesrecognition_train/train_dataset 1'\n",
        "train_set2_dir = '/content/gdrive/MyDrive/training_data_set/Licplatesrecognition_train/train_dataset 2'\n",
        "\n",
        "# Load the test set\n",
        "test_set_dir = '/content/gdrive/MyDrive/training_data_set/Licplatesrecognition_train/test'"
      ],
      "metadata": {
        "id": "rXHuc-L9YEUu"
      },
      "execution_count": null,
      "outputs": []
    },
    {
      "cell_type": "code",
      "source": [
        "# Load and preprocess the images\n",
        "\n",
        "# Function to load and preprocess an image\n",
        "def load_image(path):\n",
        "    img = cv2.imread(path)\n",
        "    if img is None:\n",
        "        print(f\"Error: Unable to read image file {path}\")\n",
        "        return None\n",
        "    if len(img.shape) != 3 or img.shape[2] != 3:\n",
        "        print(f\"Error: Image {path} is not a 3-channel color image\")\n",
        "        return None\n",
        "    img = cv2.resize(img, (224, 224))  # Resize to 224x224\n",
        "    img = img / 255.0  # Normalize pixel values to [0, 1]\n",
        "    return img\n",
        "\n",
        "# Check if directories exist\n",
        "if not os.path.exists(train_set1_dir):\n",
        "    print(f\"Error: Directory {train_set1_dir} does not exist\")\n",
        "    exit(1)\n",
        "if not os.path.exists(train_set2_dir):\n",
        "    print(f\"Error: Directory {train_set2_dir} does not exist\")\n",
        "    exit(1)\n",
        "if not os.path.exists(test_set_dir):\n",
        "    print(f\"Error: Directory {test_set_dir} does not exist\")\n",
        "    exit(1)\n",
        "\n",
        "# Load and preprocess the training sets\n",
        "train_set1_images = []\n",
        "train_set1_labels = []\n",
        "for file in os.listdir(train_set1_dir):\n",
        "    if not file.lower().endswith(('.png', '.jpg', '.jpeg', '.bmp', '.tif')):\n",
        "        continue  # Skip non-image files\n",
        "    img_path = os.path.join(train_set1_dir, file)\n",
        "    img = load_image(img_path)\n",
        "    if img is not None:\n",
        "        train_set1_images.append(img)\n",
        "\n",
        "        # Extract the label from the filename\n",
        "        filename, file_extension = os.path.splitext(file)\n",
        "        label_parts = filename.split(\"_\")\n",
        "        if len(label_parts) > 1:\n",
        "            label = label_parts[1]\n",
        "        else:\n",
        "            label = filename  # or some default value if no underscore is found\n",
        "\n",
        "        train_set1_labels.append(label)\n",
        "\n",
        "train_set2_images = []\n",
        "train_set2_labels = []\n",
        "for file in os.listdir(train_set2_dir):\n",
        "    if not file.lower().endswith(('.png', '.jpg', '.jpeg', '.bmp', '.tif')):\n",
        "        continue  # Skip non-image files\n",
        "    img_path = os.path.join(train_set2_dir, file)\n",
        "    img = load_image(img_path)\n",
        "    if img is not None:\n",
        "        train_set2_images.append(img)\n",
        "\n",
        "        # Extract the label from the filename\n",
        "        filename, file_extension = os.path.splitext(file)\n",
        "        label_parts = filename.split(\"_\")\n",
        "        if len(label_parts) > 1:\n",
        "            label = label_parts[1]\n",
        "        else:\n",
        "            label = filename  # or some default value if no underscore is found\n",
        "\n",
        "        train_set2_labels.append(label)\n",
        "\n",
        "# Load and preprocess the test set\n",
        "test_set_images = []\n",
        "test_set_labels = []\n",
        "for file in os.listdir(test_set_dir):\n",
        "    if not file.lower().endswith(('.png', '.jpg', '.jpeg', '.bmp', '.tif')):\n",
        "        continue  # Skip non-image files\n",
        "    img_path = os.path.join(test_set_dir, file)\n",
        "    img = load_image(img_path)\n",
        "    if img is not None:\n",
        "        test_set_images.append(img)\n",
        "\n",
        "        # Extract the label from the filename\n",
        "        filename, file_extension = os.path.splitext(file)\n",
        "        label_parts = filename.split(\"_\")\n",
        "        if len(label_parts) > 1:\n",
        "            label = label_parts[1]\n",
        "        else:\n",
        "            label = filename  # or some default value if no underscore is found\n",
        "\n",
        "        test_set_labels.append(label)"
      ],
      "metadata": {
        "id": "0Ejgq3m_YE4G"
      },
      "execution_count": null,
      "outputs": []
    },
    {
      "cell_type": "code",
      "source": [
        "from sklearn.model_selection import train_test_split\n",
        "\n",
        "# Load and preprocess the training sets\n",
        "train_set1_images = []\n",
        "train_set1_labels = []\n",
        "for file in os.listdir(train_set1_dir):\n",
        "    if not file.lower().endswith(('.png', '.jpg', '.jpeg', '.bmp', '.tif')):\n",
        "        continue  # Skip non-image files\n",
        "    img_path = os.path.join(train_set1_dir, file)\n",
        "    img = load_image(img_path)\n",
        "    if img is not None:\n",
        "        train_set1_images.append(img)\n",
        "\n",
        "        # Extract the label from the filename\n",
        "        filename, file_extension = os.path.splitext(file)\n",
        "        label_parts = filename.split(\"_\")\n",
        "        if len(label_parts) > 1:\n",
        "            label = label_parts[1]\n",
        "        else:\n",
        "            label = filename  # or some default value if no underscore is found\n",
        "\n",
        "        train_set1_labels.append(label)\n",
        "\n",
        "train_set2_images = []\n",
        "train_set2_labels = []\n",
        "for file in os.listdir(train_set2_dir):\n",
        "    if not file.lower().endswith(('.png', '.jpg', '.jpeg', '.bmp', '.tif')):\n",
        "        continue  # Skip non-image files\n",
        "    img_path = os.path.join(train_set2_dir, file)\n",
        "    img = load_image(img_path)\n",
        "    if img is not None:\n",
        "        train_set2_images.append(img)\n",
        "\n",
        "        # Extract the label from the filename\n",
        "        filename, file_extension = os.path.splitext(file)\n",
        "        label_parts = filename.split(\"_\")\n",
        "        if len(label_parts) > 1:\n",
        "            label = label_parts[1]\n",
        "        else:\n",
        "            label = filename  # or some default value if no underscore is found\n",
        "\n",
        "        train_set2_labels.append(label)\n",
        "\n",
        "# Combine the two training sets\n",
        "train_images = train_set1_images + train_set2_images\n",
        "train_labels = train_set1_labels + train_set2_labels\n",
        "\n",
        "# Check if the dataset is not empty\n",
        "if len(train_images) == 0 or len(train_labels) == 0:\n",
        "    print(\"Error: The dataset is empty. Unable to split into training and testing sets.\")\n",
        "else:\n",
        "    # Split the dataset into training and testing sets\n",
        "    X_train, X_test, y_train, y_test = train_test_split(train_images, train_labels, test_size=0.2, random_state=42)"
      ],
      "metadata": {
        "id": "CnHtyONUYE_r"
      },
      "execution_count": null,
      "outputs": []
    },
    {
      "cell_type": "code",
      "source": [
        "# Create the model\n",
        "model = keras.Sequential([\n",
        "    keras.layers.Conv2D(32, (3, 3), activation='relu', input_shape=(224, 224, 3)),\n",
        "    keras.layers.MaxPooling2D((2, 2)),\n",
        "    keras.layers.Flatten(),\n",
        "    keras.layers.Dense(128, activation='relu'),\n",
        "    keras.layers.Dropout(0.2),\n",
        "    keras.layers.Dense(36, activation='softmax')  # 36 classes (0-9, A-Z)\n",
        "])\n",
        "\n",
        "# Compile the model\n",
        "model.compile(optimizer='adam',\n",
        "              loss='sparse_categorical_crossentropy',\n",
        "              metrics=['accuracy'])"
      ],
      "metadata": {
        "id": "XEn55kiJYFGs"
      },
      "execution_count": null,
      "outputs": []
    },
    {
      "cell_type": "code",
      "source": [
        "from sklearn.model_selection import train_test_split\n",
        "import numpy as np\n",
        "\n",
        "# Load and preprocess the images\n",
        "\n",
        "# Combine the two training sets\n",
        "train_images = train_set1_images + train_set2_images\n",
        "train_labels = train_set1_labels + train_set2_labels\n",
        "\n",
        "# Convert lists to numpy arrays\n",
        "train_images = np.array(train_images)\n",
        "train_labels = np.array(train_labels)\n",
        "\n",
        "# Check if the dataset is not empty\n",
        "if len(train_images) == 0 or len(train_labels) == 0:\n",
        "    print(\"Error: The dataset is empty. Unable to split into training and testing sets.\")\n",
        "else:\n",
        "    # Split the dataset into training and testing sets\n",
        "    X_train, X_test, y_train, y_test = train_test_split(train_images, train_labels, test_size=0.2, random_state=42)"
      ],
      "metadata": {
        "id": "KhiKRRC-YFLs"
      },
      "execution_count": null,
      "outputs": []
    },
    {
      "cell_type": "markdown",
      "source": [],
      "metadata": {
        "id": "zWC2ZoKZcF3Q"
      }
    },
    {
      "cell_type": "code",
      "source": [
        "from keras.preprocessing.image import ImageDataGenerator\n",
        "import numpy as np\n",
        "\n",
        "\n",
        "# Combine the two training sets\n",
        "train_images = train_set1_images + train_set2_images\n",
        "train_labels = train_set1_labels + train_set2_labels\n",
        "\n",
        "# Convert lists to numpy arrays\n",
        "train_images = np.array(train_images)\n",
        "train_labels = np.array(train_labels)\n",
        "\n",
        "# Check if the dataset is not empty\n",
        "if len(train_images) == 0 or len(train_labels) == 0:\n",
        "    print(\"Error: The dataset is empty. Unable to create ImageDataGenerator.\")\n",
        "else:\n",
        "    # Create ImageDataGenerator for training\n",
        "    train_datagen = ImageDataGenerator(rescale=1./255)\n",
        "    validation_datagen = ImageDataGenerator(rescale=1./255)\n",
        "\n",
        "    # Create generators for training and validation\n",
        "    train_generator = train_datagen.flow(x=train_images, y=train_labels, batch_size=32)\n",
        "    validation_generator = validation_datagen.flow(x=X_test, y=y_test, batch_size=32)"
      ],
      "metadata": {
        "id": "ZQbZFcaBYm01"
      },
      "execution_count": null,
      "outputs": []
    },
    {
      "cell_type": "code",
      "source": [
        "import os\n",
        "import cv2\n",
        "import numpy as np\n",
        "import pandas as pd\n",
        "from sklearn.preprocessing import LabelEncoder\n",
        "from tensorflow.keras.models import Sequential\n",
        "from tensorflow.keras.layers import Conv2D, MaxPooling2D, Flatten, Dense\n",
        "\n",
        "# Define the training directory\n",
        "train_dir = '/content/gdrive/MyDrive/training_data_set/Licplatesrecognition_train/train_dataset 2'\n",
        "\n",
        "# Create a dictionary to map labels to integer values\n",
        "label_dict = {}\n",
        "labels = os.listdir(train_dir)\n",
        "for i, label in enumerate(labels):\n",
        "    label_dict[label] = i\n",
        "\n",
        "num_classes = len(labels)\n",
        "\n",
        "# Load the training data and labels\n",
        "train_data = []\n",
        "train_labels = []\n",
        "\n",
        "for label in label_dict.keys():\n",
        "    path = os.path.join(train_dir, label)\n",
        "    for img in os.listdir(path):\n",
        "        img_path = os.path.join(path, img)\n",
        "        image = cv2.imread(img_path)\n",
        "        image = cv2.resize(image, (224, 224))\n",
        "        train_data.append(image)\n",
        "        train_labels.append(label_dict[label])\n",
        "\n",
        "# Convert the training data and labels to numpy arrays\n",
        "train_data = np.array(train_data)\n",
        "train_labels = np.array(train_labels)\n",
        "\n",
        "# One-hot encode the training labels\n",
        "le = LabelEncoder()\n",
        "train_labels = le.fit_transform(train_labels)\n",
        "train_labels = pd.get_dummies(train_labels).values\n",
        "\n",
        "# Create the model\n",
        "model = Sequential()\n",
        "model.add(Conv2D(32, (3, 3), activation='relu', input_shape=(224, 224, 3)))\n",
        "model.add(MaxPooling2D(pool_size=(2, 2)))\n",
        "model.add(Conv2D(64, (3, 3), activation='relu'))\n",
        "model.add(MaxPooling2D(pool_size=(2, 2)))\n",
        "model.add(Conv2D(128, (3, 3), activation='relu'))\n",
        "model.add(MaxPooling2D(pool_size=(2, 2)))\n",
        "model.add(Flatten())\n",
        "model.add(Dense(128, activation='relu'))\n",
        "model.add(Dense(num_classes, activation='softmax'))\n",
        "\n",
        "# Compile the model\n",
        "model.compile(loss='categorical_crossentropy', optimizer='adam', metrics=['accuracy'])\n",
        "\n",
        "# Train the model\n",
        "model.fit(train_data, train_labels, epochs=10, batch_size=32, validation_split=0.2)"
      ],
      "metadata": {
        "colab": {
          "base_uri": "https://localhost:8080/"
        },
        "id": "tOI2fCNPYrAj",
        "outputId": "2c93de20-a2b3-43df-823a-701dc867a533"
      },
      "execution_count": null,
      "outputs": [
        {
          "output_type": "stream",
          "name": "stdout",
          "text": [
            "Epoch 1/10\n"
          ]
        },
        {
          "output_type": "stream",
          "name": "stderr",
          "text": [
            "/usr/local/lib/python3.10/dist-packages/tensorflow/python/util/dispatch.py:1260: SyntaxWarning: In loss categorical_crossentropy, expected y_pred.shape to be (batch_size, num_classes) with num_classes > 1. Received: y_pred.shape=(None, 1). Consider using 'binary_crossentropy' if you only have 2 classes.\n",
            "  return dispatch_target(*args, **kwargs)\n"
          ]
        },
        {
          "output_type": "stream",
          "name": "stdout",
          "text": [
            "23/23 [==============================] - 84s 4s/step - loss: 0.0000e+00 - accuracy: 1.0000 - val_loss: 0.0000e+00 - val_accuracy: 1.0000\n",
            "Epoch 2/10\n",
            "23/23 [==============================] - 81s 4s/step - loss: 0.0000e+00 - accuracy: 1.0000 - val_loss: 0.0000e+00 - val_accuracy: 1.0000\n",
            "Epoch 3/10\n",
            "23/23 [==============================] - 95s 4s/step - loss: 0.0000e+00 - accuracy: 1.0000 - val_loss: 0.0000e+00 - val_accuracy: 1.0000\n",
            "Epoch 4/10\n",
            "23/23 [==============================] - 79s 3s/step - loss: 0.0000e+00 - accuracy: 1.0000 - val_loss: 0.0000e+00 - val_accuracy: 1.0000\n",
            "Epoch 5/10\n",
            "23/23 [==============================] - 79s 3s/step - loss: 0.0000e+00 - accuracy: 1.0000 - val_loss: 0.0000e+00 - val_accuracy: 1.0000\n",
            "Epoch 6/10\n",
            "23/23 [==============================] - 78s 3s/step - loss: 0.0000e+00 - accuracy: 1.0000 - val_loss: 0.0000e+00 - val_accuracy: 1.0000\n",
            "Epoch 7/10\n",
            "23/23 [==============================] - 79s 3s/step - loss: 0.0000e+00 - accuracy: 1.0000 - val_loss: 0.0000e+00 - val_accuracy: 1.0000\n",
            "Epoch 8/10\n",
            "23/23 [==============================] - 79s 3s/step - loss: 0.0000e+00 - accuracy: 1.0000 - val_loss: 0.0000e+00 - val_accuracy: 1.0000\n",
            "Epoch 9/10\n",
            "23/23 [==============================] - 83s 4s/step - loss: 0.0000e+00 - accuracy: 1.0000 - val_loss: 0.0000e+00 - val_accuracy: 1.0000\n",
            "Epoch 10/10\n",
            "23/23 [==============================] - 79s 3s/step - loss: 0.0000e+00 - accuracy: 1.0000 - val_loss: 0.0000e+00 - val_accuracy: 1.0000\n"
          ]
        },
        {
          "output_type": "execute_result",
          "data": {
            "text/plain": [
              "<keras.src.callbacks.History at 0x7cbc6718c1c0>"
            ]
          },
          "metadata": {},
          "execution_count": 1
        }
      ]
    }
  ]
}